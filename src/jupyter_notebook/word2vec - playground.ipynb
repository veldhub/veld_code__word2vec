{
 "cells": [
  {
   "cell_type": "code",
   "execution_count": null,
   "id": "78f1d90b-4a93-4b63-b22d-a20fa107c361",
   "metadata": {},
   "outputs": [],
   "source": [
    "import gensim"
   ]
  },
  {
   "cell_type": "code",
   "execution_count": null,
   "id": "96f36e77-5914-42bd-a6b4-7c2370802941",
   "metadata": {},
   "outputs": [],
   "source": [
    "!ls /veld/storage/"
   ]
  },
  {
   "cell_type": "code",
   "execution_count": null,
   "id": "f8cbcf14-af90-491b-bb89-854b702234e8",
   "metadata": {},
   "outputs": [],
   "source": [
    "model = gensim.models.Word2Vec.load(\"/veld/storage/<MODEL_PATH_HERE>.bin\")"
   ]
  },
  {
   "cell_type": "code",
   "execution_count": null,
   "id": "459f3bab-6141-4a3a-83ee-b4efe4bc630e",
   "metadata": {},
   "outputs": [],
   "source": [
    "print(model.wv[\"frau\"])"
   ]
  },
  {
   "cell_type": "code",
   "execution_count": null,
   "id": "a7d80540-697b-4f72-824c-542da8ca5138",
   "metadata": {},
   "outputs": [],
   "source": [
    "for similar_word, similarity in model.wv.most_similar(\"frau\", topn=10):\n",
    "    print(f\"- {similar_word}: {similarity}\")"
   ]
  },
  {
   "cell_type": "code",
   "execution_count": null,
   "id": "5eee5c6c-e445-4902-97de-19320f8a7f9f",
   "metadata": {},
   "outputs": [],
   "source": [
    "for similar_word, similarity in model.wv.most_similar(\"mann\", topn=10):\n",
    "    print(f\"- {similar_word}: {similarity}\")"
   ]
  }
 ],
 "metadata": {
  "kernelspec": {
   "display_name": "Python 3 (ipykernel)",
   "language": "python",
   "name": "python3"
  },
  "language_info": {
   "codemirror_mode": {
    "name": "ipython",
    "version": 3
   },
   "file_extension": ".py",
   "mimetype": "text/x-python",
   "name": "python",
   "nbconvert_exporter": "python",
   "pygments_lexer": "ipython3",
   "version": "3.10.12"
  }
 },
 "nbformat": 4,
 "nbformat_minor": 5
}
